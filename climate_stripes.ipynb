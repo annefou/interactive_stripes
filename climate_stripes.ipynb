{
 "cells": [
  {
   "cell_type": "markdown",
   "id": "9f12707c-7b23-4323-86f8-e0abef39c968",
   "metadata": {
    "editable": true,
    "slideshow": {
     "slide_type": ""
    },
    "tags": []
   },
   "source": [
    "---\n",
    "file_format: mystnb\n",
    "kernelspec:\n",
    "  name: python3\n",
    "  display_name: Python 3 (ipykernel)\n",
    "  language: python\n",
    "otherkey1: val1\n",
    "otherkey2: val2\n",
    "title: Generate Climate Stripes\n",
    "subtitle: Python Script to generate climate stripes\n",
    "authors:\n",
    "  - name: Anne Fouilloux\n",
    "    orcid: 0000-0002-1784-2920\n",
    "    github: annefou\n",
    "    affiliations:\n",
    "      - id: Simula Research Laboratory\n",
    "        institution: Simula Research Laboratory\n",
    "        ror: 00vn06n10\n",
    "  - name: Tina Erica Odaka\n",
    "    orcid: 0000-0002-1500-0156\n",
    "    github: tinaok\n",
    "    affiliations:\n",
    "      - id: IFREMER\n",
    "        institution: French Research Institute for Exploitation of the Sea\n",
    "        ror: 044jxhp58\n",
    "date: 2025-04-25\n",
    "keywords : earth and related environmental sciences\n",
    "---"
   ]
  },
  {
   "cell_type": "markdown",
   "id": "992e3e5b-ab2d-439b-b399-66b003db1673",
   "metadata": {
    "editable": true,
    "slideshow": {
     "slide_type": ""
    },
    "tags": []
   },
   "source": [
    "# Creation of interactive Climate Stripes"
   ]
  },
  {
   "cell_type": "markdown",
   "id": "e62eb4d1-d5b7-4b93-9348-ad8fd1735949",
   "metadata": {
    "editable": true,
    "slideshow": {
     "slide_type": ""
    },
    "tags": []
   },
   "source": [
    "## Install necessary Python dependencies"
   ]
  },
  {
   "cell_type": "code",
   "execution_count": null,
   "id": "2921e698-c94a-4d93-b5fd-db25c51df6d8",
   "metadata": {
    "editable": true,
    "hide-output": true,
    "slideshow": {
     "slide_type": ""
    },
    "tags": []
   },
   "outputs": [],
   "source": [
    "pip install altair altair_saver"
   ]
  },
  {
   "cell_type": "markdown",
   "id": "17e354a1-5e17-4031-82f6-a4e799a066d3",
   "metadata": {
    "editable": true,
    "slideshow": {
     "slide_type": ""
    },
    "tags": []
   },
   "source": [
    "## Import Python dependencies"
   ]
  },
  {
   "cell_type": "code",
   "execution_count": null,
   "id": "bf70b7dc-19e8-485c-8497-f6e174a2a69a",
   "metadata": {
    "editable": true,
    "slideshow": {
     "slide_type": ""
    },
    "tags": []
   },
   "outputs": [],
   "source": [
    "import altair as alt\n",
    "import pandas as pd\n",
    "import numpy as np"
   ]
  },
  {
   "cell_type": "code",
   "execution_count": null,
   "id": "4d5082b6-f8e3-4c02-9a1b-b38bef7d1068",
   "metadata": {
    "editable": true,
    "slideshow": {
     "slide_type": ""
    },
    "tags": []
   },
   "outputs": [],
   "source": [
    "## Define input parameters"
   ]
  },
  {
   "cell_type": "code",
   "execution_count": null,
   "id": "12798a0d-f530-41fe-93f1-f87a17cfe6b4",
   "metadata": {
    "editable": true,
    "slideshow": {
     "slide_type": ""
    },
    "tags": [
     "parameters"
    ]
   },
   "outputs": [],
   "source": [
    "# parameters\n",
    "filename: str = \"ts_cities.csv\"\n",
    "separator: str = \"\\t\"\n",
    "Xaxis_colname: str = \"Year\"\n",
    "variable_colname: str = \"tg_anomalies_paris\"\n",
    "variable_long_name: str = \"Temperature Anomaly\"\n",
    "plot_title: str = \"Global Warming Stripes (1950–2019)\"\n",
    "\n",
    "vmin: float = -9\n",
    "vmax: float = +9\n",
    "output_file: str = \"climate_stripes.html\""
   ]
  },
  {
   "cell_type": "code",
   "execution_count": null,
   "id": "0c6c4f70-3712-4ebf-a444-fb1d5da13ceb",
   "metadata": {
    "editable": true,
    "slideshow": {
     "slide_type": ""
    },
    "tags": []
   },
   "outputs": [],
   "source": [
    "# Read Data\n",
    "df = pd.read_csv(filename, sep=separator)\n",
    "df[\"One\"] = 1\n",
    "\n",
    "try:\n",
    "    custom_colors\n",
    "except NameError:\n",
    "    custom_colors = ['#053061', '#2166ac', '#4393c3', '#92c5de', '#d1e5f0', \n",
    "                     '#fddbc7', '#f4a582', '#d6604d', '#b2182b', '#67001f'\n",
    "                    ]\n",
    "   \n",
    "try:\n",
    "    domain\n",
    "except NameError:\n",
    "    domain = np.linspace(vmin, vmax, len(custom_colors))\n",
    "\n",
    "# Create chart with title and color legend\n",
    "chart = alt.Chart(df).mark_bar().encode(\n",
    "    x=alt.X(Xaxis_colname + ':O', axis=None, scale=alt.Scale(paddingInner=0)),\n",
    "    y=alt.Y('One:Q', axis=None),\n",
    "    color=alt.Color(variable_colname + ':Q',\n",
    "                    scale=alt.Scale(domain=domain, range=custom_colors),\n",
    "                    legend=alt.Legend(title=variable_long_name)),\n",
    "    tooltip=[Xaxis_colname, variable_colname]\n",
    ").properties(\n",
    "    height=100,\n",
    "    width=800,\n",
    "    title=plot_title\n",
    ")"
   ]
  },
  {
   "cell_type": "code",
   "execution_count": null,
   "id": "0c197977-e586-4a4b-9985-939b1f1baa8a",
   "metadata": {
    "editable": true,
    "slideshow": {
     "slide_type": ""
    },
    "tags": [
     "outputs",
     "parameters"
    ]
   },
   "outputs": [],
   "source": [
    "# Save as HTML\n",
    "chart.save(output_file)"
   ]
  },
  {
   "cell_type": "code",
   "execution_count": null,
   "id": "0343de31-ef2b-457f-bdea-e9cf32e6177c",
   "metadata": {},
   "outputs": [],
   "source": []
  }
 ],
 "metadata": {
  "jupytext": {
   "default_lexer": "ipython3",
   "formats": "ipynb,md:myst"
  },
  "kernelspec": {
   "display_name": "Python 3 (ipykernel)",
   "language": "python",
   "name": "python3"
  },
  "language_info": {
   "codemirror_mode": {
    "name": "ipython",
    "version": 3
   },
   "file_extension": ".py",
   "mimetype": "text/x-python",
   "name": "python",
   "nbconvert_exporter": "python",
   "pygments_lexer": "ipython3",
   "version": "3.12.10"
  },
  "widgets": {
   "application/vnd.jupyter.widget-state+json": {
    "state": {},
    "version_major": 2,
    "version_minor": 0
   }
  }
 },
 "nbformat": 4,
 "nbformat_minor": 5
}
